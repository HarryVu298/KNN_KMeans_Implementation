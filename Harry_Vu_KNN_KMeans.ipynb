{
  "nbformat": 4,
  "nbformat_minor": 0,
  "metadata": {
    "colab": {
      "provenance": []
    },
    "kernelspec": {
      "name": "python3",
      "display_name": "Python 3"
    },
    "language_info": {
      "name": "python"
    },
    "accelerator": "GPU"
  },
  "cells": [
    {
      "cell_type": "markdown",
      "source": [
        "https://colab.research.google.com/drive/1ONTJ_L_4CMcyJcXdCeljRntazdW1zjW6?usp=sharing\n",
        "\n",
        "https://colab.research.google.com/drive/1QI4v4_1bdeN5dJ_McV1Xn-RiavYvgymn?usp=sharing\n",
        "\n",
        "# ==============================================="
      ],
      "metadata": {
        "id": "858xvPa0cfoM"
      }
    },
    {
      "cell_type": "markdown",
      "source": [
        "# Question 1: KNN in image classification\n",
        "\n",
        "## Step1: Get to know the dataset [MNIST dataset](https://www.tensorflow.org/datasets/catalog/mnist) (Please click and read it before you run the following code)\n",
        "\n",
        "The following code downloads the MNIST dataset from the official website. Run this just once to get the \"mnist.pkl\" file. \n",
        "\n",
        "After you run this code, you can find the file in the \"Files\" option from the tool bar on the left \n",
        "\n",
        "<-"
      ],
      "metadata": {
        "id": "Sxcjr1VudWSb"
      }
    },
    {
      "cell_type": "code",
      "execution_count": 26,
      "metadata": {
        "id": "XntJALc5cacw",
        "colab": {
          "base_uri": "https://localhost:8080/"
        },
        "outputId": "aeb29a53-bd7e-4fc2-9969-57b929bdb700"
      },
      "outputs": [
        {
          "output_type": "stream",
          "name": "stdout",
          "text": [
            "Downloading train-images-idx3-ubyte.gz...\n",
            "Downloading t10k-images-idx3-ubyte.gz...\n",
            "Downloading train-labels-idx1-ubyte.gz...\n",
            "Downloading t10k-labels-idx1-ubyte.gz...\n",
            "Download complete.\n",
            "Save complete.\n"
          ]
        }
      ],
      "source": [
        "import numpy as np\n",
        "from urllib import request\n",
        "import gzip\n",
        "import pickle\n",
        "\n",
        "filename = [\n",
        "[\"training_images\",\"train-images-idx3-ubyte.gz\"],\n",
        "[\"test_images\",\"t10k-images-idx3-ubyte.gz\"],\n",
        "[\"training_labels\",\"train-labels-idx1-ubyte.gz\"],\n",
        "[\"test_labels\",\"t10k-labels-idx1-ubyte.gz\"]\n",
        "]\n",
        "\n",
        "def download_mnist():\n",
        "    base_url = \"http://yann.lecun.com/exdb/mnist/\"\n",
        "    for name in filename:\n",
        "        print(\"Downloading \"+name[1]+\"...\")\n",
        "        request.urlretrieve(base_url+name[1], name[1])\n",
        "    print(\"Download complete.\")\n",
        "\n",
        "def save_mnist():\n",
        "    mnist = {}\n",
        "    for name in filename[:2]:\n",
        "        with gzip.open(name[1], 'rb') as f:\n",
        "            mnist[name[0]] = np.frombuffer(f.read(), np.uint8, offset=16).reshape(-1,28*28)\n",
        "    for name in filename[-2:]:\n",
        "        with gzip.open(name[1], 'rb') as f:\n",
        "            mnist[name[0]] = np.frombuffer(f.read(), np.uint8, offset=8)\n",
        "    with open(\"mnist.pkl\", 'wb') as f:\n",
        "        pickle.dump(mnist,f)\n",
        "    print(\"Save complete.\")\n",
        "\n",
        "def init():\n",
        "    download_mnist()\n",
        "    save_mnist()\n",
        "#    print ((load()[0]).shape)\n",
        "def load():\n",
        "    with open(\"mnist.pkl\",'rb') as f:\n",
        "        mnist = pickle.load(f)\n",
        "    return mnist[\"training_images\"], mnist[\"training_labels\"], mnist[\"test_images\"], mnist[\"test_labels\"]\n",
        "\n",
        "if __name__ == '__main__':\n",
        "    init()"
      ]
    },
    {
      "cell_type": "markdown",
      "source": [
        "## If you are interested in what the data looks like. You can run the following code to see."
      ],
      "metadata": {
        "id": "XHA2Nmurtau9"
      }
    },
    {
      "cell_type": "code",
      "source": [
        "import matplotlib.pyplot as plt\n",
        "import numpy as np\n",
        "from matplotlib.colors import LogNorm\n",
        "\n",
        "\n",
        "import numpy as np\n",
        "from urllib import request\n",
        "import gzip\n",
        "import math\n",
        "import pickle\n",
        "\n",
        "\n",
        "\n",
        "\n",
        "def loadB():\n",
        "    with open(\"mnist.pkl\",'rb') as f:\n",
        "        mnist = pickle.load(f)\n",
        "\n",
        "        training_images, training_labels, testing_images, testing_labels = mnist[\"training_images\"], mnist[\"training_labels\"], mnist[\"test_images\"], mnist[\"test_labels\"]\n",
        "        # Normalize the images\n",
        "        training_images.astype('float32')\n",
        "        testing_images.astype('float32')\n",
        "        training_images = training_images / 255\n",
        "        testing_images = testing_images / 255\n",
        "        return training_images, training_labels, testing_images, testing_labels\n",
        "\n",
        "\n",
        "TRimg,TRlab,TSimg,TSlab=loadB()\n",
        "print(len(TRimg),len(TRlab),len(TSimg),len(TSlab))\n",
        "print(len(TRimg[0]),len(TRlab),len(TSimg[0]),len(TSlab))\n",
        "\n",
        "showInd=20000\n",
        "Column=np.reshape(TRimg[showInd], (784, 1))\n",
        "arr_2d = np.reshape(TRimg[showInd], (28, 28))\n",
        "arr_2dT=np.rot90(arr_2d)\n",
        "arr_2dTA=np.rot90(arr_2dT)\n",
        "Final=np.fliplr(arr_2dTA)\n",
        "#arr_2dTA=np.transpose(arr_2dT)\n",
        "#arr_2dTB=np.transpose(arr_2dTA)\n",
        "print(\"===========this is the original image===========\")\n",
        "plt.pcolor(Final)\n",
        "print(TRlab[showInd])\n",
        "plt.show()\n",
        "print(\"===========this is the vectorized image===========\")\n",
        "plt.pcolor(Column)\n",
        "plt.show()\n",
        "\n",
        "#pcm = plt.pcolormesh(arr_2d,cmap='RdBu_r')\n",
        "#plt.colorbar(pcm)\n",
        "#plt.show()"
      ],
      "metadata": {
        "colab": {
          "base_uri": "https://localhost:8080/",
          "height": 602
        },
        "id": "qgVg6kzCtZxd",
        "outputId": "21a4a182-3e82-4497-fcea-3e0808c17128"
      },
      "execution_count": 27,
      "outputs": [
        {
          "output_type": "stream",
          "name": "stdout",
          "text": [
            "60000 60000 10000 10000\n",
            "784 60000 784 10000\n",
            "===========this is the original image===========\n",
            "5\n"
          ]
        },
        {
          "output_type": "display_data",
          "data": {
            "text/plain": [
              "<Figure size 432x288 with 1 Axes>"
            ],
            "image/png": "[encoded data removed]"
          },
          "metadata": {
            "needs_background": "light"
          }
        },
        {
          "output_type": "stream",
          "name": "stdout",
          "text": [
            "===========this is the vectorized image===========\n"
          ]
        },
        {
          "output_type": "display_data",
          "data": {
            "text/plain": [
              "<Figure size 432x288 with 1 Axes>"
            ],
            "image/png": "[encoded data removed]"
          },
          "metadata": {
            "needs_background": "light"
          }
        }
      ]
    },
    {
      "cell_type": "markdown",
      "source": [
        "## In the next part, please implement the KNN function for hand written digit recognition\n",
        "\n"
      ],
      "metadata": {
        "id": "Atv56Vm7dgnH"
      }
    },
    {
      "cell_type": "markdown",
      "source": [
        "## What is the format of the dataset:\n",
        "\n",
        "**x_train** : 60,000x784 numpy array that each row contains flattened version of training images. \n",
        "\n",
        "**y_train** : 1x60,000 numpy array that each component is true label of the  corresponding training images. \n",
        "\n",
        "**x_test** : 10,000x784 numpy array that each row contains flattened version of\n",
        "test images. Each vector of 784 is the vector for one image.\n",
        "\n",
        "**y_test** : 1x10,000 numpy array that each component is true label of the \n",
        "corresponding test images. "
      ],
      "metadata": {
        "id": "yRq3R-3Ice4V"
      }
    },
    {
      "cell_type": "markdown",
      "source": [
        "**Notice**:  Once  you  get  “mnist.pkl”,  you  don't  need  to  call  init()  anymore. \n",
        "Everything you need to do is to locate “mnist.pkl” \n",
        "in your working directory and  to call load(). Then you can load  the MNIST \n",
        "database in your code (given below) "
      ],
      "metadata": {
        "id": "42I7r1GMezTX"
      }
    },
    {
      "cell_type": "markdown",
      "source": [
        "**Notice**: Due to the high computational complexity of KNN, you do not need \n",
        "to  classify  all  10000  test  images.  Instead,  you  can  select  how  many  test \n",
        "images to classify in \n",
        "\n",
        "\"outputlabels=kNNClassify(x_test[0:20],x_train,y_train,10)\"\n",
        "\n",
        "The suggested configuration is 20 test images and K=10"
      ],
      "metadata": {
        "id": "ccLLytZbe9Ga"
      }
    },
    {
      "cell_type": "markdown",
      "source": [
        "**Note**: The code for data loading has been given. You can \n",
        "utilize them or write your own codes. Basically, you just need to modify the code bellow. You can choose the value of k (suggested value is 10). Also, \n",
        "choose L2 distance as the measurement metric. "
      ],
      "metadata": {
        "id": "DIuKSzPGfAef"
      }
    },
    {
      "cell_type": "markdown",
      "source": [
        "Accuracy result and execution time should be printed out and you can directly use the code provided in the following"
      ],
      "metadata": {
        "id": "2JDBf3rpfUpK"
      }
    },
    {
      "cell_type": "markdown",
      "source": [
        "## Step 2 implement your KNN algorithm\n",
        "\n",
        "Now you need to implement the KNN algorithm below. Test the KNN algorithm for 20 test images. Calculate the processing overhead (time consumption) and the classification accuracy (code provided, the accuracy should be higher than 30%). "
      ],
      "metadata": {
        "id": "9_s1gFOl8UKM"
      }
    },
    {
      "cell_type": "code",
      "source": [
        "import math\n",
        "import numpy as np  \n",
        "import operator  \n",
        "import time\n",
        "import pickle\n",
        "\n",
        "#load the data that you downloaded\n",
        "\n",
        "def load():\n",
        "    with open(\"mnist.pkl\",'rb') as f:\n",
        "        mnist = pickle.load(f)\n",
        "    return mnist[\"training_images\"], mnist[\"training_labels\"], mnist[\"test_images\"], mnist[\"test_labels\"]\n",
        "\n",
        "# classify using kNN  \n",
        "#x_train = np.load('../x_train.npy')\n",
        "#y_train = np.load('../y_train.npy')\n",
        "#x_test = np.load('../x_test.npy')\n",
        "#y_test = np.load('../y_test.npy')\n",
        "'''\n",
        "The meaning of each data\n",
        "x_train, training data\n",
        "y_train, corresponding label\n",
        "x_test,  testing data\n",
        "y_test. corresponding label\n",
        "'''\n",
        "x_train, y_train, x_test, y_test = load()\n",
        "print(x_train.shape) # should be (60000, 784) meaning 60000 images. each image has been converted into one vector.\n",
        "\n",
        "def distance(x,y):\n",
        "    return np.linalg.norm(x-y)\n",
        "\n",
        "def kNNClassify(newInput, dataSet, labels, k): \n",
        "    result=[]\n",
        "    ########################\n",
        "    # Add your code here #\n",
        "    ########################\n",
        "    \n",
        "    for i in range(newInput.shape[0]):\n",
        "        distances = [distance(newInput[i], dataSet[j]) for j in range(dataSet.shape[0])]\n",
        "        idx = np.argpartition(distances, k)\n",
        "        lb, freq = np.unique(labels[idx[:k]], return_counts=True)\n",
        "        result.append(lb[np.argmax(freq)])\n",
        "    \n",
        "    ####################\n",
        "    # End of your code #\n",
        "    ####################\n",
        "    return result\n",
        "\n",
        "\n",
        "#Calculate the processing overhead (time consumption) and the classification accuracy.\n",
        "start_time = time.time()\n",
        "outputlabels=kNNClassify(x_test[0:20],x_train,y_train,10) # your function\n",
        "# print(outputlabels)\n",
        "result = y_test[0:20] - outputlabels\n",
        "result = (1 - np.count_nonzero(result)/len(outputlabels))\n",
        "print (\"---classification accuracy for knn on mnist: %s ---\" %result)\n",
        "print (\"---execution time: %s seconds ---\" % (time.time() - start_time))"
      ],
      "metadata": {
        "id": "Ij0t0dd3fGz_",
        "colab": {
          "base_uri": "https://localhost:8080/"
        },
        "outputId": "8688b799-19b0-45ef-910f-a26a4c2ab3bd"
      },
      "execution_count": 28,
      "outputs": [
        {
          "output_type": "stream",
          "name": "stdout",
          "text": [
            "(60000, 784)\n",
            "---classification accuracy for knn on mnist: 0.85 ---\n",
            "---execution time: 9.031672239303589 seconds ---\n"
          ]
        }
      ]
    },
    {
      "cell_type": "markdown",
      "source": [
        "# Question 2 [K-Means](https://colab.research.google.com/drive/1QI4v4_1bdeN5dJ_McV1Xn-RiavYvgymn?usp=sharing) \n",
        "\n",
        "Comparing to the KNN, K-means is an unsupervised learning which does not require the label. In this question, you will directly divide the 10000 test images into 10 groups using K-means. This question has two challenging tasks that you need to solve:\n",
        "\n",
        "\n",
        "\n",
        "1.   Task 1: Implement the K-Means for image classification in MNIST dataset. (K=10) Check the different results when starting with different the centroids. For example, what would be the difference between selecting 10 centroids from each class and selecting 10 centroids from one class. (You do not need to calculate the accuracy)\n",
        "\n",
        "2.   Task 2: How to evaluate the performance. You need to carefully design the code to check the classification results, since in un-supervised learning, the clustering result does not include the classification results. For example, by using K-means, you know some data points belong to one cluster but you do not know which class it blongs to. For another example, after you apply the K-Means, you get 1000 images that are clustered into one group. However, some of them have the label of \"7\" and some of them have the label of \"8\". You do not know the class for this particular cluster. So, how to decide and how to ecaluate the classifcation accuracy is very challenge (groundtruth could be applied here). Please design an evaluation method to evaluate the clustering performance of using K-means in MNIST dataset.\n",
        "\n"
      ],
      "metadata": {
        "id": "3nwmkhPbfksl"
      }
    },
    {
      "cell_type": "markdown",
      "source": [
        "- Task 1 is required for all students.\n",
        "\n",
        "- Task 2 is only required for graduate student and is optional for undergraduate student. Any undergraduate student who finishes Task 2 will receive 10% bonus for this homework (not to the final grade) (should not exceed the full score)."
      ],
      "metadata": {
        "id": "yHXd3z_ofsog"
      }
    },
    {
      "cell_type": "code",
      "source": [
        "import math\n",
        "import numpy as np  \n",
        "import operator  \n",
        "import time\n",
        "import pickle\n",
        "import random\n",
        "\n",
        "#load the data that you downloaded\n",
        "\n",
        "def load():\n",
        "    with open(\"mnist.pkl\",'rb') as f:\n",
        "        mnist = pickle.load(f)\n",
        "    return mnist[\"training_images\"], mnist[\"training_labels\"], mnist[\"test_images\"], mnist[\"test_labels\"]\n",
        "\n",
        "# classify using kNN  \n",
        "#x_train = np.load('../x_train.npy')\n",
        "#y_train = np.load('../y_train.npy')\n",
        "#x_test = np.load('../x_test.npy')\n",
        "#y_test = np.load('../y_test.npy')\n",
        "'''\n",
        "x_train, training data\n",
        "y_train, corresponding label\n",
        "x_test,  testing data\n",
        "y_test. corresponding label\n",
        "'''\n",
        "\n",
        "x_train, y_train, x_test, y_test = load()\n",
        "print(x_test.shape)\n",
        "\n",
        "# TASK 1\n",
        "def k_means(dataset, k, iteration, centroids):\n",
        "    classes = np.zeros(dataset.shape[0])\n",
        "    distances = np.zeros([dataset.shape[0], k])\n",
        "\n",
        "    for o in range(iteration):\n",
        "        for i, j in enumerate(centroids):\n",
        "            distances[:, i] = np.linalg.norm(j-dataset,axis=1)\n",
        "        classes = np.argmin(distances, axis=1)\n",
        "        for j in range(k):\n",
        "  \n",
        "            centroids[j] = np.mean(dataset[classes == j], 0)\n",
        "    return centroids, classes\n",
        "iteration = 10\n",
        "k = 10\n",
        "centroids, classes = k_means(x_test, k, iteration, random.sample(x_test,k))\n",
        "\n",
        "\n",
        "# TASK 2\n",
        "from sklearn.metrics.cluster import adjusted_rand_score, normalized_mutual_info_score\n",
        "for k in range(10,20):\n",
        "    centroids, classes = k_means(x_test, k, iteration, random.sample(x_test, k))\n",
        "\n",
        "    # Adjusted Rand Index (ARI) and Normalized Mutual Information (NMI) are both measures of the similarity between two clusterings of a dataset.\n",
        "    # Thus, we can use ARI and NMI to evaluate the clustering performance of using K-means in MNIST dataset\n",
        "    # Thus, the higher ARI and NMI, the better the clustering performance\n",
        "    print(\"Number of centroids: {}, ARI = {}, NMI = {}\".format(k, adjusted_rand_score(y_test,classes), normalized_mutual_info_score(y_test,classes)))\n",
        "\n",
        "\n",
        "\n",
        "\n",
        "\n"
      ],
      "metadata": {
        "id": "j8tkZmTxGUUn",
        "colab": {
          "base_uri": "https://localhost:8080/"
        },
        "outputId": "7a1dd3a2-9c5c-4bd2-aee9-dadcd0d4f623"
      },
      "execution_count": 32,
      "outputs": [
        {
          "output_type": "stream",
          "name": "stdout",
          "text": [
            "(10000, 784)\n",
            "Number of centroids: 10, ARI = 0.3004384374576032, NMI = 0.4532106013631106\n",
            "Number of centroids: 11, ARI = 0.4195883370964171, NMI = 0.5281761787945468\n",
            "Number of centroids: 12, ARI = 0.4146252557581387, NMI = 0.5263059704097076\n",
            "Number of centroids: 13, ARI = 0.429642478669192, NMI = 0.5588713553897879\n",
            "Number of centroids: 14, ARI = 0.41249378653217383, NMI = 0.5239773051499982\n",
            "Number of centroids: 15, ARI = 0.3453879843697581, NMI = 0.5126741269548756\n",
            "Number of centroids: 16, ARI = 0.3755134861500975, NMI = 0.5500773840562904\n",
            "Number of centroids: 17, ARI = 0.4089436899371903, NMI = 0.5351068628202554\n",
            "Number of centroids: 18, ARI = 0.3583874125938985, NMI = 0.5321288820935788\n",
            "Number of centroids: 19, ARI = 0.3508536266110102, NMI = 0.5340634786236331\n"
          ]
        }
      ]
    }
  ]
}
